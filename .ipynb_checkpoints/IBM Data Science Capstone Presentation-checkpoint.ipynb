{
 "cells": [
  {
   "cell_type": "markdown",
   "metadata": {},
   "source": [
    "# Venues Antalya\n"
   ]
  },
  {
   "cell_type": "markdown",
   "metadata": {},
   "source": [
    "# Introduction \n",
    "##  Problem Statement : \n",
    "\n",
    "Antalya is most popular holiday city in Turkey and more than 15 million people choosing this beatifull city for their holiday every year from abroad. In this favourit holiday city, there are many many restaurants and cafes of different ambiance from many different food cultures. also there are many diffrent beachs resorts int this city.Traditional turkish cuisine, italian pizza restaurants, seafood restaurants, authentic middle east cafes, delicious kebab restaurants, turkish coffee, fast food, bistros, so many options for a tourist"
   ]
  },
  {
   "cell_type": "markdown",
   "metadata": {},
   "source": [
    "##  Problem Discussion:\n",
    "There is not enough time for a tourist who has been come  on vacation for 10 days to get the experience up to the right place to choose the right restaurant for dinner.there is no time for a tourist to learn which restaurant is cooking better or which restaurant is cooking more delicious fish or which bar is making better music"
   ]
  },
  {
   "cell_type": "markdown",
   "metadata": {},
   "source": [
    "## Target group:\n",
    "This project can generate data that can help people who want to choose the right restaurant or cafe on vacation. It can be a resource for websites or mobile app providers recommending restaurants or cafes for tourists coming to Antalya for holidays."
   ]
  },
  {
   "cell_type": "markdown",
   "metadata": {},
   "source": [
    "# 2. Data used for solving the problem:\n",
    "\n",
    "\n",
    "##### For this project, we will be utilizing the Foursquare API to pull the  location data on restaurants and cafes in Antalya:  :  \n",
    "\n",
    " 1.Venue Name  \n",
    " 2.Venue ID  \n",
    " 3.Venue Location  \n",
    " 4.Venue Category  \n",
    " 5.Count of Likes  \n"
   ]
  },
  {
   "cell_type": "markdown",
   "metadata": {},
   "source": [
    "## How we will use data\n",
    " Using Geolocator one can get the latitude and Longitude values of a particular place after fetching these values we can use Forsquare API calls on these places and gather the venues that are currently happening in these areas as well as the places like restraunts present in the neighborhood and the ratings of each particular  restaurant can be assessed by using the API ant applying K-Means clustering algorithm one can cluster these restarants based on the likes and can easily predict the popularity of each restaurant helping  him to enjoy the best cuisine available in that neighborhood this would not only  help one save his time but also one can experience the best food around him."
   ]
  },
  {
   "cell_type": "code",
   "execution_count": null,
   "metadata": {},
   "outputs": [],
   "source": []
  }
 ],
 "metadata": {
  "kernelspec": {
   "display_name": "Python 3",
   "language": "python",
   "name": "python3"
  },
  "language_info": {
   "codemirror_mode": {
    "name": "ipython",
    "version": 3
   },
   "file_extension": ".py",
   "mimetype": "text/x-python",
   "name": "python",
   "nbconvert_exporter": "python",
   "pygments_lexer": "ipython3",
   "version": "3.7.6"
  }
 },
 "nbformat": 4,
 "nbformat_minor": 4
}
